{
 "cells": [
  {
   "cell_type": "code",
   "execution_count": 5,
   "id": "7e3b67fb",
   "metadata": {},
   "outputs": [],
   "source": [
    "import cv2"
   ]
  },
  {
   "cell_type": "code",
   "execution_count": 9,
   "id": "5233e8d8",
   "metadata": {},
   "outputs": [],
   "source": [
    "bgr_img = cv2.imread('mountain.jpg')"
   ]
  },
  {
   "cell_type": "code",
   "execution_count": 10,
   "id": "402603b2",
   "metadata": {},
   "outputs": [
    {
     "data": {
      "text/plain": [
       "True"
      ]
     },
     "execution_count": 10,
     "metadata": {},
     "output_type": "execute_result"
    }
   ],
   "source": [
    "gray_img = cv2.cvtColor(bgr_img,cv2.COLOR_BGR2GRAY)\n",
    "cv2.imwrite(\"gray_mountain.jpg\",gray_img)"
   ]
  },
  {
   "cell_type": "code",
   "execution_count": 11,
   "id": "45e78c6f",
   "metadata": {},
   "outputs": [
    {
     "data": {
      "text/plain": [
       "True"
      ]
     },
     "execution_count": 11,
     "metadata": {},
     "output_type": "execute_result"
    }
   ],
   "source": [
    "hsv_img = cv2.cvtColor(bgr_img,cv2.COLOR_BGR2HSV)\n",
    "cv2.imwrite(\"hsv_mountain.jpg\",hsv_img)"
   ]
  },
  {
   "cell_type": "code",
   "execution_count": 12,
   "id": "210ac2bc",
   "metadata": {},
   "outputs": [
    {
     "data": {
      "text/plain": [
       "True"
      ]
     },
     "execution_count": 12,
     "metadata": {},
     "output_type": "execute_result"
    }
   ],
   "source": [
    "rgb_img = cv2.cvtColor(bgr_img,cv2.COLOR_BGR2RGB)\n",
    "cv2.imwrite(\"rgb_mountain.jpg\",rgb_img)"
   ]
  }
 ],
 "metadata": {
  "kernelspec": {
   "display_name": "base",
   "language": "python",
   "name": "python3"
  },
  "language_info": {
   "codemirror_mode": {
    "name": "ipython",
    "version": 3
   },
   "file_extension": ".py",
   "mimetype": "text/x-python",
   "name": "python",
   "nbconvert_exporter": "python",
   "pygments_lexer": "ipython3",
   "version": "3.11.5"
  }
 },
 "nbformat": 4,
 "nbformat_minor": 5
}
