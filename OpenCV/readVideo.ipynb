{
 "cells": [
  {
   "cell_type": "code",
   "execution_count": 1,
   "id": "4d81c670",
   "metadata": {},
   "outputs": [],
   "source": [
    "import cv2"
   ]
  },
  {
   "cell_type": "code",
   "execution_count": 2,
   "id": "36794be8",
   "metadata": {},
   "outputs": [],
   "source": [
    "vid = cv2.VideoCapture(\"mountain.mp4\")"
   ]
  },
  {
   "cell_type": "code",
   "execution_count": null,
   "id": "ba3f00f6",
   "metadata": {},
   "outputs": [
    {
     "ename": "",
     "evalue": "",
     "output_type": "error",
     "traceback": [
      "\u001b[1;31mThe Kernel crashed while executing code in the current cell or a previous cell. \n",
      "\u001b[1;31mPlease review the code in the cell(s) to identify a possible cause of the failure. \n",
      "\u001b[1;31mClick <a href='https://aka.ms/vscodeJupyterKernelCrash'>here</a> for more info. \n",
      "\u001b[1;31mView Jupyter <a href='command:jupyter.viewOutput'>log</a> for further details."
     ]
    }
   ],
   "source": [
    "while True:\n",
    "    ret,frame = vid.read()\n",
    "    if not ret:\n",
    "        break\n",
    "    cv2.imshow(\"Video Frame\", frame)\n",
    "    if cv2.waitKey(1) & 0xFF == ord('q'):\n",
    "        break\n",
    "vid.release()\n",
    "cv2.destroyAllWindows()"
   ]
  },
  {
   "cell_type": "code",
   "execution_count": 5,
   "id": "436384c7",
   "metadata": {},
   "outputs": [],
   "source": [
    "video = cv2.VideoCapture(\"./mountain.mp4\")\n",
    "\n",
    "fourcc = cv2.VideoWriter_fourcc(*\"mp4v\")\n",
    "\n",
    "width = int(video.get(cv2.CAP_PROP_FRAME_WIDTH))\n",
    "height = int(video.get(cv2.CAP_PROP_FRAME_HEIGHT))\n",
    "\n",
    "out = cv2.VideoWriter(\"./output.mp4\", fourcc, 30, (width, height))\n",
    "\n",
    "while True:\n",
    "    ret, frame  = video.read()\n",
    "    if not ret:\n",
    "        break\n",
    "    out.write(frame+30)\n",
    "\n",
    "out.release()\n",
    "video.release()\n",
    "cv2.destroyAllWindows()\n"
   ]
  },
  {
   "cell_type": "code",
   "execution_count": 6,
   "id": "34ef1dcb",
   "metadata": {},
   "outputs": [
    {
     "data": {
      "text/plain": [
       "(1366.0, 1366.0, 23.976023976023978)"
      ]
     },
     "execution_count": 6,
     "metadata": {},
     "output_type": "execute_result"
    }
   ],
   "source": [
    "width = vid.get(cv2.CAP_PROP_FRAME_WIDTH)\n",
    "height = vid.get(cv2.CAP_PROP_FRAME_WIDTH)\n",
    "fps = vid.get(cv2.CAP_PROP_FPS)\n",
    "\n",
    "width,height,fps"
   ]
  }
 ],
 "metadata": {
  "kernelspec": {
   "display_name": "base",
   "language": "python",
   "name": "python3"
  },
  "language_info": {
   "codemirror_mode": {
    "name": "ipython",
    "version": 3
   },
   "file_extension": ".py",
   "mimetype": "text/x-python",
   "name": "python",
   "nbconvert_exporter": "python",
   "pygments_lexer": "ipython3",
   "version": "3.11.5"
  }
 },
 "nbformat": 4,
 "nbformat_minor": 5
}
